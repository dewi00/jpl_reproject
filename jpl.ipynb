{
 "cells": [
  {
   "cell_type": "code",
   "execution_count": 154,
   "metadata": {},
   "outputs": [],
   "source": [
    "import rasterio\n",
    "import matplotlib.pyplot as plt\n",
    "import numpy as np\n",
    "import os\n",
    "import glob\n",
    "from pathlib import Path\n",
    "from tqdm import tqdm\n",
    "from skimage.restoration import denoise_tv_bregman\n",
    "import sys\n",
    "sys.path.append('utils/')\n",
    "from rasterio.transform import array_bounds\n",
    "from shapely.geometry import box\n",
    "import geopandas as gpd\n",
    "from osgeo import gdal\n",
    "import re\n",
    "import subprocess"
   ]
  },
  {
   "cell_type": "markdown",
   "metadata": {},
   "source": [
    "### Import data into list (data)"
   ]
  },
  {
   "cell_type": "code",
   "execution_count": 155,
   "metadata": {
    "scrolled": false
   },
   "outputs": [
    {
     "data": {
      "text/plain": [
       "[PosixPath('data/tandemx_mekong/dem/TDM1_DEM__30_N08E104_DEM.tif'),\n",
       " PosixPath('data/tandemx_mekong/dem/TDM1_DEM__30_N08E105_DEM.tif'),\n",
       " PosixPath('data/tandemx_mekong/dem/TDM1_DEM__30_N08E106_DEM.tif'),\n",
       " PosixPath('data/tandemx_mekong/dem/TDM1_DEM__30_N09E103_DEM.tif'),\n",
       " PosixPath('data/tandemx_mekong/dem/TDM1_DEM__30_N09E104_DEM.tif'),\n",
       " PosixPath('data/tandemx_mekong/dem/TDM1_DEM__30_N09E105_DEM.tif'),\n",
       " PosixPath('data/tandemx_mekong/dem/TDM1_DEM__30_N09E106_DEM.tif'),\n",
       " PosixPath('data/tandemx_mekong/dem/TDM1_DEM__30_N10E103_DEM.tif'),\n",
       " PosixPath('data/tandemx_mekong/dem/TDM1_DEM__30_N10E104_DEM.tif'),\n",
       " PosixPath('data/tandemx_mekong/dem/TDM1_DEM__30_N10E105_DEM.tif'),\n",
       " PosixPath('data/tandemx_mekong/dem/TDM1_DEM__30_N10E106_DEM.tif'),\n",
       " PosixPath('data/tandemx_mekong/dem/TDM1_DEM__30_N11E103_DEM.tif'),\n",
       " PosixPath('data/tandemx_mekong/dem/TDM1_DEM__30_N11E104_DEM.tif'),\n",
       " PosixPath('data/tandemx_mekong/dem/TDM1_DEM__30_N11E105_DEM.tif'),\n",
       " PosixPath('data/tandemx_mekong/dem/TDM1_DEM__30_N11E106_DEM.tif')]"
      ]
     },
     "execution_count": 155,
     "metadata": {},
     "output_type": "execute_result"
    }
   ],
   "source": [
    "data = Path('data/tandemx_mekong/').glob('*/*.tif')\n",
    "data = sorted(data, key=lambda x: x.name)\n",
    "data"
   ]
  },
  {
   "cell_type": "code",
   "execution_count": 156,
   "metadata": {},
   "outputs": [
    {
     "data": {
      "text/plain": [
       "\"[PosixPath<data/tandemx_mekong/dem/TDM1_DEM__30_N08E104_DEM.tif>'), PosixPath<data/tandemx_mekong/dem/TDM1_DEM__30_N08E105_DEM.tif>'), PosixPath<data/tandemx_mekong/dem/TDM1_DEM__30_N08E106_DEM.tif>'), PosixPath<data/tandemx_mekong/dem/TDM1_DEM__30_N09E103_DEM.tif>'), PosixPath<data/tandemx_mekong/dem/TDM1_DEM__30_N09E104_DEM.tif>'), PosixPath<data/tandemx_mekong/dem/TDM1_DEM__30_N09E105_DEM.tif>'), PosixPath<data/tandemx_mekong/dem/TDM1_DEM__30_N09E106_DEM.tif>'), PosixPath<data/tandemx_mekong/dem/TDM1_DEM__30_N10E103_DEM.tif>'), PosixPath<data/tandemx_mekong/dem/TDM1_DEM__30_N10E104_DEM.tif>'), PosixPath<data/tandemx_mekong/dem/TDM1_DEM__30_N10E105_DEM.tif>'), PosixPath<data/tandemx_mekong/dem/TDM1_DEM__30_N10E106_DEM.tif>'), PosixPath<data/tandemx_mekong/dem/TDM1_DEM__30_N11E103_DEM.tif>'), PosixPath<data/tandemx_mekong/dem/TDM1_DEM__30_N11E104_DEM.tif>'), PosixPath<data/tandemx_mekong/dem/TDM1_DEM__30_N11E105_DEM.tif>'), PosixPath<data/tandemx_mekong/dem/TDM1_DEM__30_N11E106_DEM.tif>')]\""
      ]
     },
     "execution_count": 156,
     "metadata": {},
     "output_type": "execute_result"
    }
   ],
   "source": [
    "#putting the data into a string\n",
    "strdata = str(data)\n",
    "strdata\n",
    "strdata1=strdata.replace(\"('\",\"<\")\n",
    "strdata2=strdata1.replace(\"tif\",\"tif>\")\n",
    "strdata2"
   ]
  },
  {
   "cell_type": "code",
   "execution_count": 157,
   "metadata": {
    "scrolled": true
   },
   "outputs": [
    {
     "data": {
      "text/plain": [
       "['data/tandemx_mekong/dem/TDM1_DEM__30_N08E104_DEM.tif',\n",
       " 'data/tandemx_mekong/dem/TDM1_DEM__30_N08E105_DEM.tif',\n",
       " 'data/tandemx_mekong/dem/TDM1_DEM__30_N08E106_DEM.tif',\n",
       " 'data/tandemx_mekong/dem/TDM1_DEM__30_N09E103_DEM.tif',\n",
       " 'data/tandemx_mekong/dem/TDM1_DEM__30_N09E104_DEM.tif',\n",
       " 'data/tandemx_mekong/dem/TDM1_DEM__30_N09E105_DEM.tif',\n",
       " 'data/tandemx_mekong/dem/TDM1_DEM__30_N09E106_DEM.tif',\n",
       " 'data/tandemx_mekong/dem/TDM1_DEM__30_N10E103_DEM.tif',\n",
       " 'data/tandemx_mekong/dem/TDM1_DEM__30_N10E104_DEM.tif',\n",
       " 'data/tandemx_mekong/dem/TDM1_DEM__30_N10E105_DEM.tif',\n",
       " 'data/tandemx_mekong/dem/TDM1_DEM__30_N10E106_DEM.tif',\n",
       " 'data/tandemx_mekong/dem/TDM1_DEM__30_N11E103_DEM.tif',\n",
       " 'data/tandemx_mekong/dem/TDM1_DEM__30_N11E104_DEM.tif',\n",
       " 'data/tandemx_mekong/dem/TDM1_DEM__30_N11E105_DEM.tif',\n",
       " 'data/tandemx_mekong/dem/TDM1_DEM__30_N11E106_DEM.tif']"
      ]
     },
     "execution_count": 157,
     "metadata": {},
     "output_type": "execute_result"
    }
   ],
   "source": [
    "data_new = re.findall(r'<(.+?)>',strdata2)\n",
    "data_new"
   ]
  },
  {
   "cell_type": "code",
   "execution_count": 158,
   "metadata": {},
   "outputs": [],
   "source": [
    "in_directory = \"/users/dewihenry/jpl/python/data/tandemx_mekong/dem\"\n",
    "files_to_process = glob.glob(os.path.join(in_directory, '*.tif'))"
   ]
  },
  {
   "cell_type": "code",
   "execution_count": 159,
   "metadata": {},
   "outputs": [
    {
     "data": {
      "text/plain": [
       "['/users/dewihenry/jpl/python/data/tandemx_mekong/dem/TDM1_DEM__30_N08E106_DEM.tif',\n",
       " '/users/dewihenry/jpl/python/data/tandemx_mekong/dem/TDM1_DEM__30_N11E106_DEM.tif',\n",
       " '/users/dewihenry/jpl/python/data/tandemx_mekong/dem/TDM1_DEM__30_N11E104_DEM.tif',\n",
       " '/users/dewihenry/jpl/python/data/tandemx_mekong/dem/TDM1_DEM__30_N08E105_DEM.tif',\n",
       " '/users/dewihenry/jpl/python/data/tandemx_mekong/dem/TDM1_DEM__30_N09E103_DEM.tif',\n",
       " '/users/dewihenry/jpl/python/data/tandemx_mekong/dem/TDM1_DEM__30_N10E103_DEM.tif',\n",
       " '/users/dewihenry/jpl/python/data/tandemx_mekong/dem/TDM1_DEM__30_N11E105_DEM.tif',\n",
       " '/users/dewihenry/jpl/python/data/tandemx_mekong/dem/TDM1_DEM__30_N08E104_DEM.tif',\n",
       " '/users/dewihenry/jpl/python/data/tandemx_mekong/dem/TDM1_DEM__30_N10E106_DEM.tif',\n",
       " '/users/dewihenry/jpl/python/data/tandemx_mekong/dem/TDM1_DEM__30_N09E106_DEM.tif',\n",
       " '/users/dewihenry/jpl/python/data/tandemx_mekong/dem/TDM1_DEM__30_N09E104_DEM.tif',\n",
       " '/users/dewihenry/jpl/python/data/tandemx_mekong/dem/TDM1_DEM__30_N10E105_DEM.tif',\n",
       " '/users/dewihenry/jpl/python/data/tandemx_mekong/dem/TDM1_DEM__30_N11E103_DEM.tif',\n",
       " '/users/dewihenry/jpl/python/data/tandemx_mekong/dem/TDM1_DEM__30_N09E105_DEM.tif',\n",
       " '/users/dewihenry/jpl/python/data/tandemx_mekong/dem/TDM1_DEM__30_N10E104_DEM.tif']"
      ]
     },
     "execution_count": 159,
     "metadata": {},
     "output_type": "execute_result"
    }
   ],
   "source": [
    "files_to_process"
   ]
  },
  {
   "cell_type": "code",
   "execution_count": 160,
   "metadata": {},
   "outputs": [
    {
     "name": "stdout",
     "output_type": "stream",
     "text": [
      "/users/dewihenry/jpl/python/data/tandemx_mekong/dem/TDM1_DEM__30_N08E106_DEM.tif /users/dewihenry/jpl/python/data/tandemx_mekong/dem/TDM1_DEM__30_N11E106_DEM.tif /users/dewihenry/jpl/python/data/tandemx_mekong/dem/TDM1_DEM__30_N11E104_DEM.tif /users/dewihenry/jpl/python/data/tandemx_mekong/dem/TDM1_DEM__30_N08E105_DEM.tif /users/dewihenry/jpl/python/data/tandemx_mekong/dem/TDM1_DEM__30_N09E103_DEM.tif /users/dewihenry/jpl/python/data/tandemx_mekong/dem/TDM1_DEM__30_N10E103_DEM.tif /users/dewihenry/jpl/python/data/tandemx_mekong/dem/TDM1_DEM__30_N11E105_DEM.tif /users/dewihenry/jpl/python/data/tandemx_mekong/dem/TDM1_DEM__30_N08E104_DEM.tif /users/dewihenry/jpl/python/data/tandemx_mekong/dem/TDM1_DEM__30_N10E106_DEM.tif /users/dewihenry/jpl/python/data/tandemx_mekong/dem/TDM1_DEM__30_N09E106_DEM.tif /users/dewihenry/jpl/python/data/tandemx_mekong/dem/TDM1_DEM__30_N09E104_DEM.tif /users/dewihenry/jpl/python/data/tandemx_mekong/dem/TDM1_DEM__30_N10E105_DEM.tif /users/dewihenry/jpl/python/data/tandemx_mekong/dem/TDM1_DEM__30_N11E103_DEM.tif /users/dewihenry/jpl/python/data/tandemx_mekong/dem/TDM1_DEM__30_N09E105_DEM.tif /users/dewihenry/jpl/python/data/tandemx_mekong/dem/TDM1_DEM__30_N10E104_DEM.tif\n"
     ]
    }
   ],
   "source": [
    "files_string = \" \" .join(files_to_process)\n",
    "print(files_string)"
   ]
  },
  {
   "cell_type": "markdown",
   "metadata": {},
   "source": [
    "this merges all the rasters together to make one single raster. kicking the function into a subterminal to execute gdal_merge"
   ]
  },
  {
   "cell_type": "code",
   "execution_count": 161,
   "metadata": {},
   "outputs": [
    {
     "name": "stdout",
     "output_type": "stream",
     "text": [
      "0...10...20...30...40...50...60...70...80...90...100 - done.\n"
     ]
    }
   ],
   "source": [
    "outfile = \"out.tif\"\n",
    "cmd = \"../../opt/anaconda3/bin/gdal_merge.py -o \" + outfile + \" \" + files_string\n",
    "!{cmd}"
   ]
  },
  {
   "cell_type": "code",
   "execution_count": 162,
   "metadata": {},
   "outputs": [
    {
     "name": "stdout",
     "output_type": "stream",
     "text": [
      "out.tif\n"
     ]
    }
   ],
   "source": [
    "print (outfile)"
   ]
  },
  {
   "cell_type": "markdown",
   "metadata": {},
   "source": [
    "GDALWARP to convert from Ellipsoidal to Orthometric elevation:\n",
    "https://spatialthoughts.com/2019/10/26/convert-between-orthometric-and-ellipsoidal-elevations-using-gdal/"
   ]
  },
  {
   "cell_type": "code",
   "execution_count": 164,
   "metadata": {
    "scrolled": true
   },
   "outputs": [
    {
     "name": "stdout",
     "output_type": "stream",
     "text": [
      "Processing out.tif [1/1] : 0...10...20...30...40...50...60...70...80...90...100 - done.\n"
     ]
    }
   ],
   "source": [
    "outEGM = \"mekong_EGM.tif\"\n",
    "cmd = \"../../opt/anaconda3/bin/gdalwarp -s_srs EPSG:4326+4979 -t_srs EPSG:4326+5773 \" + outfile + \" \" + outEGM\n",
    "!{cmd} "
   ]
  },
  {
   "cell_type": "code",
   "execution_count": null,
   "metadata": {},
   "outputs": [],
   "source": []
  },
  {
   "cell_type": "markdown",
   "metadata": {},
   "source": []
  },
  {
   "cell_type": "code",
   "execution_count": 163,
   "metadata": {},
   "outputs": [],
   "source": []
  },
  {
   "cell_type": "code",
   "execution_count": null,
   "metadata": {},
   "outputs": [],
   "source": []
  },
  {
   "cell_type": "code",
   "execution_count": null,
   "metadata": {
    "scrolled": true
   },
   "outputs": [],
   "source": []
  },
  {
   "cell_type": "code",
   "execution_count": null,
   "metadata": {
    "scrolled": true
   },
   "outputs": [],
   "source": []
  },
  {
   "cell_type": "markdown",
   "metadata": {},
   "source": []
  },
  {
   "cell_type": "code",
   "execution_count": null,
   "metadata": {},
   "outputs": [],
   "source": []
  },
  {
   "cell_type": "code",
   "execution_count": null,
   "metadata": {},
   "outputs": [],
   "source": []
  }
 ],
 "metadata": {
  "kernelspec": {
   "display_name": "Python 3",
   "language": "python",
   "name": "python3"
  },
  "language_info": {
   "codemirror_mode": {
    "name": "ipython",
    "version": 3
   },
   "file_extension": ".py",
   "mimetype": "text/x-python",
   "name": "python",
   "nbconvert_exporter": "python",
   "pygments_lexer": "ipython3",
   "version": "3.7.6"
  }
 },
 "nbformat": 4,
 "nbformat_minor": 4
}
